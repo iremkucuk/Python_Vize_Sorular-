{
  "nbformat": 4,
  "nbformat_minor": 0,
  "metadata": {
    "colab": {
      "provenance": []
    },
    "kernelspec": {
      "name": "python3",
      "display_name": "Python 3"
    },
    "language_info": {
      "name": "python"
    }
  },
  "cells": [
    {
      "cell_type": "markdown",
      "source": [
        "# ortalama hesaplama"
      ],
      "metadata": {
        "id": "HnemMEfa9h1r"
      }
    },
    {
      "cell_type": "code",
      "source": [
        "def avagre(*number):\n",
        "  toplam=0\n",
        "  for i in number:\n",
        "    toplam =toplam+i\n",
        "    elemansayısı=len(number)\n",
        "    result =toplam/elemansayısı\n",
        "    return result\n",
        "\n"
      ],
      "metadata": {
        "id": "9-PXK5p59r6j"
      },
      "execution_count": null,
      "outputs": []
    },
    {
      "cell_type": "code",
      "source": [
        "avagre(2,6,99)"
      ],
      "metadata": {
        "colab": {
          "base_uri": "https://localhost:8080/"
        },
        "id": "heERDvjA-zg9",
        "outputId": "22ad5504-1e38-4b8a-bb2d-1a53dc120589"
      },
      "execution_count": null,
      "outputs": [
        {
          "output_type": "execute_result",
          "data": {
            "text/plain": [
              "0.6666666666666666"
            ]
          },
          "metadata": {},
          "execution_count": 29
        }
      ]
    },
    {
      "cell_type": "code",
      "source": [],
      "metadata": {
        "id": "v_MHvzly-9ai"
      },
      "execution_count": null,
      "outputs": []
    },
    {
      "cell_type": "markdown",
      "source": [
        "#faktöriyel hesaplama"
      ],
      "metadata": {
        "id": "UDG-m-s2_B-u"
      }
    },
    {
      "cell_type": "code",
      "source": [
        "carpım=1\n",
        "for num in range (1,6):\n",
        "  carpım=carpım*num\n",
        "  print(carpım)"
      ],
      "metadata": {
        "colab": {
          "base_uri": "https://localhost:8080/"
        },
        "id": "VQuuzfUn_HX7",
        "outputId": "8343684a-d4a4-41cf-e33b-4cb86b917f9c"
      },
      "execution_count": null,
      "outputs": [
        {
          "output_type": "stream",
          "name": "stdout",
          "text": [
            "1\n",
            "2\n",
            "6\n",
            "24\n",
            "120\n"
          ]
        }
      ]
    },
    {
      "cell_type": "code",
      "source": [
        "def fac(number):\n",
        "  carpım=1\n",
        "  for s in range(1,number+1):\n",
        "    carpım=carpım*s\n",
        "    return carpım\n"
      ],
      "metadata": {
        "id": "octuYKdS_kXt"
      },
      "execution_count": null,
      "outputs": []
    },
    {
      "cell_type": "markdown",
      "source": [
        "***--------------Vize final ***"
      ],
      "metadata": {
        "id": "NT2AJ019sYgd"
      }
    },
    {
      "cell_type": "code",
      "source": [
        " def vize_final(vize1,vize2,final,oranlar):\n",
        "  sonuc=(vize1*oranlar[0]/100)+(vize2*oranlar[1]/100)+(final*oranlar[2]/100)\n",
        "  return sonuc\n",
        "\n"
      ],
      "metadata": {
        "id": "uYzdckr4AxTu"
      },
      "execution_count": null,
      "outputs": []
    },
    {
      "cell_type": "code",
      "source": [
        "vize_final(10,45,70,[30,30,40])"
      ],
      "metadata": {
        "id": "3voPxRQPAiVh",
        "colab": {
          "base_uri": "https://localhost:8080/"
        },
        "outputId": "ed921bad-6d85-4b53-e8ba-bfa7e159ca38"
      },
      "execution_count": null,
      "outputs": [
        {
          "output_type": "execute_result",
          "data": {
            "text/plain": [
              "44.5"
            ]
          },
          "metadata": {},
          "execution_count": 33
        }
      ]
    },
    {
      "cell_type": "code",
      "source": [
        "pip install streamlit"
      ],
      "metadata": {
        "colab": {
          "base_uri": "https://localhost:8080/"
        },
        "id": "VKmMbJ8hIYHh",
        "outputId": "e21443f3-9be7-4c64-cd54-35d20c50df99"
      },
      "execution_count": null,
      "outputs": [
        {
          "output_type": "stream",
          "name": "stdout",
          "text": [
            "Requirement already satisfied: streamlit in /usr/local/lib/python3.10/dist-packages (1.35.0)\n",
            "Requirement already satisfied: altair<6,>=4.0 in /usr/local/lib/python3.10/dist-packages (from streamlit) (4.2.2)\n",
            "Requirement already satisfied: blinker<2,>=1.0.0 in /usr/lib/python3/dist-packages (from streamlit) (1.4)\n",
            "Requirement already satisfied: cachetools<6,>=4.0 in /usr/local/lib/python3.10/dist-packages (from streamlit) (5.3.3)\n",
            "Requirement already satisfied: click<9,>=7.0 in /usr/local/lib/python3.10/dist-packages (from streamlit) (8.1.7)\n",
            "Requirement already satisfied: numpy<2,>=1.19.3 in /usr/local/lib/python3.10/dist-packages (from streamlit) (1.25.2)\n",
            "Requirement already satisfied: packaging<25,>=16.8 in /usr/local/lib/python3.10/dist-packages (from streamlit) (24.0)\n",
            "Requirement already satisfied: pandas<3,>=1.3.0 in /usr/local/lib/python3.10/dist-packages (from streamlit) (2.0.3)\n",
            "Requirement already satisfied: pillow<11,>=7.1.0 in /usr/local/lib/python3.10/dist-packages (from streamlit) (9.4.0)\n",
            "Requirement already satisfied: protobuf<5,>=3.20 in /usr/local/lib/python3.10/dist-packages (from streamlit) (3.20.3)\n",
            "Requirement already satisfied: pyarrow>=7.0 in /usr/local/lib/python3.10/dist-packages (from streamlit) (14.0.2)\n",
            "Requirement already satisfied: requests<3,>=2.27 in /usr/local/lib/python3.10/dist-packages (from streamlit) (2.31.0)\n",
            "Requirement already satisfied: rich<14,>=10.14.0 in /usr/local/lib/python3.10/dist-packages (from streamlit) (13.7.1)\n",
            "Requirement already satisfied: tenacity<9,>=8.1.0 in /usr/local/lib/python3.10/dist-packages (from streamlit) (8.3.0)\n",
            "Requirement already satisfied: toml<2,>=0.10.1 in /usr/local/lib/python3.10/dist-packages (from streamlit) (0.10.2)\n",
            "Requirement already satisfied: typing-extensions<5,>=4.3.0 in /usr/local/lib/python3.10/dist-packages (from streamlit) (4.12.1)\n",
            "Requirement already satisfied: gitpython!=3.1.19,<4,>=3.0.7 in /usr/local/lib/python3.10/dist-packages (from streamlit) (3.1.43)\n",
            "Requirement already satisfied: pydeck<1,>=0.8.0b4 in /usr/local/lib/python3.10/dist-packages (from streamlit) (0.9.1)\n",
            "Requirement already satisfied: tornado<7,>=6.0.3 in /usr/local/lib/python3.10/dist-packages (from streamlit) (6.3.3)\n",
            "Requirement already satisfied: watchdog>=2.1.5 in /usr/local/lib/python3.10/dist-packages (from streamlit) (4.0.1)\n",
            "Requirement already satisfied: entrypoints in /usr/local/lib/python3.10/dist-packages (from altair<6,>=4.0->streamlit) (0.4)\n",
            "Requirement already satisfied: jinja2 in /usr/local/lib/python3.10/dist-packages (from altair<6,>=4.0->streamlit) (3.1.4)\n",
            "Requirement already satisfied: jsonschema>=3.0 in /usr/local/lib/python3.10/dist-packages (from altair<6,>=4.0->streamlit) (4.19.2)\n",
            "Requirement already satisfied: toolz in /usr/local/lib/python3.10/dist-packages (from altair<6,>=4.0->streamlit) (0.12.1)\n",
            "Requirement already satisfied: gitdb<5,>=4.0.1 in /usr/local/lib/python3.10/dist-packages (from gitpython!=3.1.19,<4,>=3.0.7->streamlit) (4.0.11)\n",
            "Requirement already satisfied: python-dateutil>=2.8.2 in /usr/local/lib/python3.10/dist-packages (from pandas<3,>=1.3.0->streamlit) (2.8.2)\n",
            "Requirement already satisfied: pytz>=2020.1 in /usr/local/lib/python3.10/dist-packages (from pandas<3,>=1.3.0->streamlit) (2023.4)\n",
            "Requirement already satisfied: tzdata>=2022.1 in /usr/local/lib/python3.10/dist-packages (from pandas<3,>=1.3.0->streamlit) (2024.1)\n",
            "Requirement already satisfied: charset-normalizer<4,>=2 in /usr/local/lib/python3.10/dist-packages (from requests<3,>=2.27->streamlit) (3.3.2)\n",
            "Requirement already satisfied: idna<4,>=2.5 in /usr/local/lib/python3.10/dist-packages (from requests<3,>=2.27->streamlit) (3.7)\n",
            "Requirement already satisfied: urllib3<3,>=1.21.1 in /usr/local/lib/python3.10/dist-packages (from requests<3,>=2.27->streamlit) (2.0.7)\n",
            "Requirement already satisfied: certifi>=2017.4.17 in /usr/local/lib/python3.10/dist-packages (from requests<3,>=2.27->streamlit) (2024.6.2)\n",
            "Requirement already satisfied: markdown-it-py>=2.2.0 in /usr/local/lib/python3.10/dist-packages (from rich<14,>=10.14.0->streamlit) (3.0.0)\n",
            "Requirement already satisfied: pygments<3.0.0,>=2.13.0 in /usr/local/lib/python3.10/dist-packages (from rich<14,>=10.14.0->streamlit) (2.16.1)\n",
            "Requirement already satisfied: smmap<6,>=3.0.1 in /usr/local/lib/python3.10/dist-packages (from gitdb<5,>=4.0.1->gitpython!=3.1.19,<4,>=3.0.7->streamlit) (5.0.1)\n",
            "Requirement already satisfied: MarkupSafe>=2.0 in /usr/local/lib/python3.10/dist-packages (from jinja2->altair<6,>=4.0->streamlit) (2.1.5)\n",
            "Requirement already satisfied: attrs>=22.2.0 in /usr/local/lib/python3.10/dist-packages (from jsonschema>=3.0->altair<6,>=4.0->streamlit) (23.2.0)\n",
            "Requirement already satisfied: jsonschema-specifications>=2023.03.6 in /usr/local/lib/python3.10/dist-packages (from jsonschema>=3.0->altair<6,>=4.0->streamlit) (2023.12.1)\n",
            "Requirement already satisfied: referencing>=0.28.4 in /usr/local/lib/python3.10/dist-packages (from jsonschema>=3.0->altair<6,>=4.0->streamlit) (0.35.1)\n",
            "Requirement already satisfied: rpds-py>=0.7.1 in /usr/local/lib/python3.10/dist-packages (from jsonschema>=3.0->altair<6,>=4.0->streamlit) (0.18.1)\n",
            "Requirement already satisfied: mdurl~=0.1 in /usr/local/lib/python3.10/dist-packages (from markdown-it-py>=2.2.0->rich<14,>=10.14.0->streamlit) (0.1.2)\n",
            "Requirement already satisfied: six>=1.5 in /usr/local/lib/python3.10/dist-packages (from python-dateutil>=2.8.2->pandas<3,>=1.3.0->streamlit) (1.16.0)\n"
          ]
        }
      ]
    },
    {
      "cell_type": "code",
      "source": [
        "\n",
        "import streamlit as st\n",
        "\n",
        "x= st.number_input(\"Please enter midterm first exam point\")\n",
        "y= st.number_input(\"Please enter midterm second exam  point\")\n",
        "z= st.number_input(\"Please enter finally exam point\")\n",
        "v= st.number_input(\"Please enter midterm first exam ratio\")\n",
        "n= st.number_input(\"Please enter midterm  second exam ratio\")\n",
        "m= st.number_input(\"Please enter finally exam ratio\")\n",
        "def exam(x,y,z,v,n,m):\n",
        "  total=(x*v/100)+(y*n/100)+(z*y/100)\n",
        "  return total\n",
        "result = exam(x, y, z, v, n, m)\n",
        "st.write(\"Total Exam Score:\", result)"
      ],
      "metadata": {
        "id": "nEAYD3xoAcp3"
      },
      "execution_count": null,
      "outputs": []
    },
    {
      "cell_type": "code",
      "source": [
        "fac(6)"
      ],
      "metadata": {
        "colab": {
          "base_uri": "https://localhost:8080/"
        },
        "id": "01JQteYQAMXL",
        "outputId": "2c555de3-633c-4eca-8007-18a4209c8b24"
      },
      "execution_count": null,
      "outputs": [
        {
          "output_type": "execute_result",
          "data": {
            "text/plain": [
              "1"
            ]
          },
          "metadata": {},
          "execution_count": 36
        }
      ]
    },
    {
      "cell_type": "code",
      "source": [
        "import streamlit as st\n",
        "\n",
        "x = st.number_input(\"Please enter midterm first exam point\")\n",
        "y = st.number_input(\"Please enter midterm second exam point\")\n",
        "z = st.number_input(\"Please enter finally exam point\")\n",
        "v = st.number_input(\"Please enter midterm first exam ratio\")\n",
        "n = st.number_input(\"Please enter midterm second exam ratio\")\n",
        "m = st.number_input(\"Please enter finally exam ratio\")\n",
        "\n",
        "def exam(x, y, z, v, n, m):\n",
        "    total = (x * v / 100) + (y * n / 100) + (z * m / 100)\n",
        "    return total\n",
        "\n",
        "result = exam(x, y, z, v, n, m)\n",
        "st.write(\"Total Exam Score:\", result)"
      ],
      "metadata": {
        "id": "UtGJtyMxAzLU"
      },
      "execution_count": null,
      "outputs": []
    },
    {
      "cell_type": "markdown",
      "source": [
        "Yüzde Hesaplama"
      ],
      "metadata": {
        "id": "DGHCRaLtJkhO"
      }
    },
    {
      "cell_type": "code",
      "source": [
        "def yuzde(sayı,oran):\n",
        "  last=sayı*oran/100\n",
        "  return last"
      ],
      "metadata": {
        "id": "J4l-urnLAda_"
      },
      "execution_count": null,
      "outputs": []
    },
    {
      "cell_type": "code",
      "source": [
        "yuzde(91,10)"
      ],
      "metadata": {
        "id": "qfThrnUIAQCM",
        "colab": {
          "base_uri": "https://localhost:8080/"
        },
        "outputId": "e3f9a77b-1782-4045-d206-c49602dae6c9"
      },
      "execution_count": null,
      "outputs": [
        {
          "output_type": "execute_result",
          "data": {
            "text/plain": [
              "9.1"
            ]
          },
          "metadata": {},
          "execution_count": 39
        }
      ]
    },
    {
      "cell_type": "code",
      "source": [
        "import streamlit as st\n",
        "sayi=st.number_input(\"please enter number \")\n",
        "oran=st.number_input(\"please eneter percent\")\n",
        "def yuzde(sayi,oran):\n",
        "  last=sayi*oran/100\n",
        "  return last\n"
      ],
      "metadata": {
        "id": "lrGf8gICAJP7"
      },
      "execution_count": null,
      "outputs": []
    },
    {
      "cell_type": "markdown",
      "source": [
        "BMİ hesaplama"
      ],
      "metadata": {
        "id": "vnnOmWnqOj1n"
      }
    },
    {
      "cell_type": "code",
      "source": [
        "def BMİ(agırlık,boy):\n",
        "  sonuc=agırlık/pow(boy,2)\n",
        "  return sonuc"
      ],
      "metadata": {
        "id": "W7WTkD9GAC6i"
      },
      "execution_count": null,
      "outputs": []
    },
    {
      "cell_type": "code",
      "source": [
        "BMİ(70,1.61)"
      ],
      "metadata": {
        "id": "JyCiM8cB_-A0",
        "colab": {
          "base_uri": "https://localhost:8080/"
        },
        "outputId": "e66ad8a2-74aa-4634-fd20-970828d952a6"
      },
      "execution_count": null,
      "outputs": [
        {
          "output_type": "execute_result",
          "data": {
            "text/plain": [
              "27.005130974885226"
            ]
          },
          "metadata": {},
          "execution_count": 42
        }
      ]
    },
    {
      "cell_type": "markdown",
      "source": [
        "Alan hesaplama"
      ],
      "metadata": {
        "id": "K1p-NzKeVtB-"
      }
    },
    {
      "cell_type": "code",
      "source": [
        "def alan(a=1,b=1,r=1,pi=3.14,tip=\"\" ):\n",
        "  if tip==\"kare\":\n",
        "    sonuc=a*a\n",
        "  elif tip==\"dikdörtgen\":\n",
        "    sonuc=a*b\n",
        "  elif tip==\"daire\":\n",
        "    sonuc=pi*r*r\n",
        "  elif tip==\"dikdörtgen\":\n",
        "    sonuc=a*b*0.5\n",
        "\n",
        "  return sonuc\n",
        "\n",
        "\n",
        "\n",
        "\n"
      ],
      "metadata": {
        "id": "36bbdpc3_gGM"
      },
      "execution_count": null,
      "outputs": []
    },
    {
      "cell_type": "code",
      "source": [
        "alan(tip=\"daire\",r=5)"
      ],
      "metadata": {
        "id": "tUuqGsfJ9sNe",
        "colab": {
          "base_uri": "https://localhost:8080/"
        },
        "outputId": "39f74b4c-6287-4769-f467-a0003b061d33"
      },
      "execution_count": null,
      "outputs": [
        {
          "output_type": "execute_result",
          "data": {
            "text/plain": [
              "78.5"
            ]
          },
          "metadata": {},
          "execution_count": 44
        }
      ]
    },
    {
      "cell_type": "markdown",
      "source": [
        "Yaş Hesaplama"
      ],
      "metadata": {
        "id": "mYuJHI9_aMbb"
      }
    },
    {
      "cell_type": "code",
      "source": [
        "import datetime"
      ],
      "metadata": {
        "id": "TPTsHJfhZ9l3"
      },
      "execution_count": null,
      "outputs": []
    },
    {
      "cell_type": "code",
      "source": [
        "yil = datetime.date.today().year\n",
        "print(yil)"
      ],
      "metadata": {
        "colab": {
          "base_uri": "https://localhost:8080/"
        },
        "id": "4BlAX9cmauhF",
        "outputId": "6a73e748-d5e3-454e-d0aa-1a950b14d6f5"
      },
      "execution_count": null,
      "outputs": [
        {
          "output_type": "stream",
          "name": "stdout",
          "text": [
            "2024\n"
          ]
        }
      ]
    },
    {
      "cell_type": "code",
      "source": [
        "def yash(dogum):\n",
        "  yil = datetime.date.today().year\n",
        "  yas=yil-dogum\n",
        "  return yas"
      ],
      "metadata": {
        "id": "fInmxKtFa2Jc"
      },
      "execution_count": null,
      "outputs": []
    },
    {
      "cell_type": "code",
      "source": [
        "yash(1999)"
      ],
      "metadata": {
        "colab": {
          "base_uri": "https://localhost:8080/"
        },
        "id": "huH8Q-trbWAj",
        "outputId": "c5ad0242-a8e0-4446-8c5f-301ff3868ea6"
      },
      "execution_count": null,
      "outputs": [
        {
          "output_type": "execute_result",
          "data": {
            "text/plain": [
              "25"
            ]
          },
          "metadata": {},
          "execution_count": 48
        }
      ]
    },
    {
      "cell_type": "markdown",
      "source": [
        "hipotenüs hesaplama"
      ],
      "metadata": {
        "id": "0zYMIEcfb8qg"
      }
    },
    {
      "cell_type": "code",
      "source": [
        "def hipo(d,c):\n",
        "  hipotenus=((d**2)+(c**2))**0.5\n",
        "  return hipotenus"
      ],
      "metadata": {
        "id": "LWsAJec2bdwx"
      },
      "execution_count": null,
      "outputs": []
    },
    {
      "cell_type": "code",
      "source": [
        "hipo(9,9)"
      ],
      "metadata": {
        "colab": {
          "base_uri": "https://localhost:8080/"
        },
        "id": "v48cOii0lqas",
        "outputId": "1daf7cf4-9ef5-4bff-fd00-17b50e051c62"
      },
      "execution_count": null,
      "outputs": [
        {
          "output_type": "execute_result",
          "data": {
            "text/plain": [
              "12.727922061357855"
            ]
          },
          "metadata": {},
          "execution_count": 50
        }
      ]
    },
    {
      "cell_type": "markdown",
      "source": [
        "python kombinasyon hesaplamam\n",
        "\n"
      ],
      "metadata": {
        "id": "mLF9SZ4C2GNU"
      }
    },
    {
      "cell_type": "code",
      "source": [
        "def fackotiyel(sayi):\n",
        "  sonuc=1\n",
        "  for i in range(1,sayi+1):\n",
        "    sonuc = sonuc*i\n",
        "  return sonuc\n",
        "def kombinasyon(n,r):\n",
        "  nfact=fackotiyel(n)\n",
        "  rfact=fackotiyel(r)\n",
        "  nrfact=fackotiyel(n-r)\n",
        "  kom=nfact/(nrfact*rfact)\n",
        "  return kom\n",
        "\n"
      ],
      "metadata": {
        "id": "HUDujeWNl84_"
      },
      "execution_count": null,
      "outputs": []
    },
    {
      "cell_type": "code",
      "source": [
        "kombinasyon(6,3)"
      ],
      "metadata": {
        "colab": {
          "base_uri": "https://localhost:8080/"
        },
        "id": "aAYnDdX33is_",
        "outputId": "6b2cc6f7-3101-4bc3-bc6f-dcd23c8f7db7"
      },
      "execution_count": null,
      "outputs": [
        {
          "output_type": "execute_result",
          "data": {
            "text/plain": [
              "20.0"
            ]
          },
          "metadata": {},
          "execution_count": 52
        }
      ]
    },
    {
      "cell_type": "markdown",
      "source": [
        "üçgen alan hesaplama"
      ],
      "metadata": {
        "id": "XTqQXn3U42YI"
      }
    },
    {
      "cell_type": "code",
      "source": [
        "def ucgen(b,h):\n",
        "  sonuc=(b*h)/2\n",
        "  return sonuc"
      ],
      "metadata": {
        "id": "Ub_iFQ1P3nyU"
      },
      "execution_count": null,
      "outputs": []
    },
    {
      "cell_type": "code",
      "source": [
        "ucgen(5,6)"
      ],
      "metadata": {
        "colab": {
          "base_uri": "https://localhost:8080/"
        },
        "id": "MDwwlcfV5ess",
        "outputId": "0629d4e3-873f-4f64-a04f-8c2587551f87"
      },
      "execution_count": null,
      "outputs": [
        {
          "output_type": "execute_result",
          "data": {
            "text/plain": [
              "15.0"
            ]
          },
          "metadata": {},
          "execution_count": 54
        }
      ]
    },
    {
      "cell_type": "markdown",
      "source": [
        "heron formülü"
      ],
      "metadata": {
        "id": "6wXk2Cjo5_3Q"
      }
    },
    {
      "cell_type": "code",
      "source": [
        "def heron(A,B,C):\n",
        "  S=(A+B+C)/2\n",
        "  sonuc=(S*((S-A)*(S-B)*(S-C)))**0.5\n",
        "  return sonuc\n"
      ],
      "metadata": {
        "id": "mknmXbNc5ikb"
      },
      "execution_count": null,
      "outputs": []
    },
    {
      "cell_type": "code",
      "source": [
        "heron(3,4,5)"
      ],
      "metadata": {
        "colab": {
          "base_uri": "https://localhost:8080/"
        },
        "id": "KEhHa3647Dm8",
        "outputId": "0e247312-bf69-4a9e-a6b2-4428ee44a796"
      },
      "execution_count": null,
      "outputs": [
        {
          "output_type": "execute_result",
          "data": {
            "text/plain": [
              "6.0"
            ]
          },
          "metadata": {},
          "execution_count": 56
        }
      ]
    },
    {
      "cell_type": "markdown",
      "source": [
        "daire alan ve dilim hesaplama"
      ],
      "metadata": {
        "id": "5_N2fAsg7iIU"
      }
    },
    {
      "cell_type": "code",
      "source": [
        "def dilim(r,pi=3.14,dilim=360):\n",
        "  bolum=dilim/360\n",
        "  alan1=pi*r*r\n",
        "  alan=alan1/bolum\n",
        "  return alan\n"
      ],
      "metadata": {
        "id": "ncK1Wrdm7HKd"
      },
      "execution_count": null,
      "outputs": []
    },
    {
      "cell_type": "code",
      "source": [
        "dilim(5,dilim=60)"
      ],
      "metadata": {
        "colab": {
          "base_uri": "https://localhost:8080/"
        },
        "id": "swMjrX9x8tGa",
        "outputId": "3857ebc0-8bd0-4c89-a1ae-a2b9513a9da6"
      },
      "execution_count": null,
      "outputs": [
        {
          "output_type": "execute_result",
          "data": {
            "text/plain": [
              "471.0"
            ]
          },
          "metadata": {},
          "execution_count": 58
        }
      ]
    },
    {
      "cell_type": "markdown",
      "source": [
        "en büyük sayı bulma"
      ],
      "metadata": {
        "id": "Hd6P7KKxD9C9"
      }
    },
    {
      "cell_type": "code",
      "source": [
        "def enbuyuk(x,y):\n",
        "  if x> y :\n",
        "    print(\"x y den büyüktür\")\n",
        "  elif x==y:\n",
        "    print(\"x ve y esittir \")\n",
        "  else:\n",
        "    print(\"x y den küçüktür\")"
      ],
      "metadata": {
        "id": "pE8vNpez8zgE"
      },
      "execution_count": null,
      "outputs": []
    },
    {
      "cell_type": "code",
      "source": [
        "enbuyuk(5,8)\n"
      ],
      "metadata": {
        "colab": {
          "base_uri": "https://localhost:8080/"
        },
        "id": "TkxD_Rb8F5dD",
        "outputId": "00bb2fc8-3f55-44ff-806c-978666b35e22"
      },
      "execution_count": null,
      "outputs": [
        {
          "output_type": "stream",
          "name": "stdout",
          "text": [
            "x y den küçüktür\n"
          ]
        }
      ]
    },
    {
      "cell_type": "markdown",
      "source": [
        "küp kök hesaplama"
      ],
      "metadata": {
        "id": "VHA2zBegGC6w"
      }
    },
    {
      "cell_type": "code",
      "source": [
        "def kükök(sayi):\n",
        "  kupkok=sayi**(1/3)\n",
        "  return kupkok"
      ],
      "metadata": {
        "id": "yxb2OcEHF-e4"
      },
      "execution_count": null,
      "outputs": []
    },
    {
      "cell_type": "code",
      "source": [
        "kükök(-8)"
      ],
      "metadata": {
        "colab": {
          "base_uri": "https://localhost:8080/"
        },
        "id": "j4z1cm-vGmKG",
        "outputId": "896a3563-1cab-423a-d184-693a0780c6f4"
      },
      "execution_count": null,
      "outputs": [
        {
          "output_type": "execute_result",
          "data": {
            "text/plain": [
              "(1.0000000000000002+1.7320508075688772j)"
            ]
          },
          "metadata": {},
          "execution_count": 62
        }
      ]
    }
  ]
}